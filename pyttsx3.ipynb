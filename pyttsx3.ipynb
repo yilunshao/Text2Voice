{
 "cells": [
  {
   "cell_type": "code",
   "execution_count": 1,
   "metadata": {},
   "outputs": [],
   "source": [
    "import pyttsx3"
   ]
  },
  {
   "cell_type": "code",
   "execution_count": 17,
   "metadata": {},
   "outputs": [
    {
     "name": "stdout",
     "output_type": "stream",
     "text": [
      "id = HKEY_LOCAL_MACHINE\\SOFTWARE\\Microsoft\\Speech\\Voices\\Tokens\\TTS_MS_EN-US_DAVID_11.0 \n",
      "name = Microsoft David Desktop - English (United States) \n",
      "\n",
      "id = HKEY_LOCAL_MACHINE\\SOFTWARE\\Microsoft\\Speech\\Voices\\Tokens\\TTS_MS_EN-US_ZIRA_11.0 \n",
      "name = Microsoft Zira Desktop - English (United States) \n",
      "\n"
     ]
    }
   ],
   "source": [
    "tts = pyttsx3.init()\n",
    "voices = tts.getProperty('voices')\n",
    "for voice in voices:\n",
    "    print('id = {} \\nname = {} \\n'.format(voice.id, voice.name))"
   ]
  },
  {
   "cell_type": "code",
   "execution_count": 4,
   "metadata": {},
   "outputs": [],
   "source": [
    "\"\"\" 语音播放 Hello World \"\"\"\n",
    "pyttsx3.speak(\"Hello World!\")"
   ]
  },
  {
   "cell_type": "code",
   "execution_count": 15,
   "metadata": {},
   "outputs": [],
   "source": [
    "engine=pyttsx3.init() # 初始化\n",
    "engine.say('hello word')# 设置读取内容\n",
    "engine.save_to_file('hello word', 'speech.mp3')\n",
    "engine.say('轻轻的我走了，正如我轻轻的来')\n",
    "# with open('./ku.txt','r',encoding='utf-8')as rf:\n",
    "#     engine.say(rf.read())\n",
    "engine.runAndWait() # 执行朗诵"
   ]
  },
  {
   "cell_type": "code",
   "execution_count": 13,
   "metadata": {},
   "outputs": [],
   "source": [
    "msg = '''大江东去，浪淘尽，千古风流人物。故垒西边，人道是：三国周郎赤壁。乱石穿空，惊涛拍岸，卷起千层雪。江山如画，一时多少豪杰。\n",
    "遥想公瑾当年，小乔初嫁了，雄姿英发。羽扇纶巾，谈笑间，樯橹灰飞烟灭。故国神游，多情应笑我，早生华发。人生初梦，一尊还酹江月'''\n",
    "teacher = pyttsx3.init()\n",
    "rate = teacher.getProperty('rate')\n",
    "teacher.setProperty('rate', rate - 10)\n",
    "teacher.say(msg)\n",
    "teacher.runAndWait()"
   ]
  },
  {
   "cell_type": "code",
   "execution_count": 12,
   "metadata": {},
   "outputs": [],
   "source": [
    "# 创建对象\n",
    "engine = pyttsx3.init()\n",
    "# 获取当前语音速率\n",
    "# rate = engine.getProperty('rate')\n",
    "# print(f'语音速率：{rate}')\n",
    "# # 设置新的语音速率\n",
    "# engine.setProperty('rate', 200)\n",
    "# # 获取当前语音音量\n",
    "# volume = engine.getProperty('volume')\n",
    "# print(f'语音音量：{volume}')\n",
    "# # 设置新的语音音量，音量最小为 0，最大为 1\n",
    "# engine.setProperty('volume', 1.0)\n",
    "# # 获取当前语音声音的详细信息\n",
    "voices = engine.getProperty('voices')\n",
    "# print(f'语音声音详细信息：{voices}')\n",
    "# 设置当前语音声音为女性，当前声音不能读中文\n",
    "# engine.setProperty('voice', voices[1].id)\n",
    "# 设置当前语音声音为男性，当前声音可以读中文\n",
    "engine.setProperty('voice', voices[0].id)\n",
    "# 获取当前语音声音\n",
    "# voice = engine.getProperty('voice')\n",
    "# print(f'语音声音：{voice}')\n",
    "# 语音文本\n",
    "# path = 'test.txt'  #或者直接导入一个文本文件\n",
    "words = \"\"\"金樽清酒斗十千，玉盘珍羞直万钱。\n",
    "\t\t欲渡黄河冰塞川，将登太行雪满山。\n",
    "\t\t闲来垂钓碧溪上，忽复乘舟梦日边。\n",
    "\t\t行路难，行路难，多歧路，今安在？\n",
    "\t\t长风破浪会有时，直挂云帆济沧海。\"\"\"\n",
    "# 将语音文本说出来\n",
    "engine.say(words)\n",
    "engine.runAndWait()\n",
    "engine.save_to_file(words, 'speech.mp3')\n",
    "engine.stop()"
   ]
  },
  {
   "cell_type": "code",
   "execution_count": 3,
   "metadata": {},
   "outputs": [],
   "source": [
    "from gtts import gTTS\n",
    "\n",
    "text = \"Hello, world!\"\n",
    "speech = gTTS(text=text, lang=\"en\")\n",
    "speech.save(\"hello.mp3\")"
   ]
  },
  {
   "cell_type": "code",
   "execution_count": 4,
   "metadata": {},
   "outputs": [],
   "source": [
    "from gtts import gTTS\n",
    "\n",
    "# 定义要转换的文本\n",
    "text = \"这是要转换成语音的中文文本\"\n",
    "\n",
    "# 初始化 gTTS 对象\n",
    "tts = gTTS(text=text, lang=\"zh-cn\")\n",
    "\n",
    "# 保存转换后的语音文件\n",
    "tts.save(\"speech.mp3\")"
   ]
  },
  {
   "cell_type": "code",
   "execution_count": null,
   "metadata": {},
   "outputs": [],
   "source": [
    "import requests\n",
    "\n",
    "# 请替换为您在百度开发者平台上创建的应用的 API Key 和 Secret Key\n",
    "API_KEY = \"YOUR_API_KEY\"\n",
    "SECRET_KEY = \"YOUR_SECRET_KEY\"\n",
    "\n",
    "# 语音合成的接口地址\n",
    "TTS_URL = \"http://tsn.baidu.com/text2audio\"\n",
    "\n",
    "# 请求的参数\n",
    "params = {\n",
    "    \"tex\": \"您好，欢迎使用百度语音合成。\",  # 要合成的文本\n",
    "    \"tok\": API_KEY,  # 用于身份验证的 API Key\n",
    "    \"cuid\": \"your_customer_id\",  # 用于区分用户的 ID\n",
    "    \"ctp\": 1,  # 客户端类型，可以为 1 或者 2\n",
    "    \"lan\": \"zh\",  # 语言，可以为 zh 或者 en\n",
    "    \"spd\": 5,  # 语速，可以在 0 到 9 的范围内选择\n",
    "    \"vol\": 5,  # 音量，可以在 0 到 15 的范围内选择\n",
    "    \"per\": 4,  # 发音人，可以在 0 到 1 的范围内选择\n",
    "}\n",
    "\n",
    "# 发起请求\n",
    "response = requests.get(TTS_URL, params=params)\n",
    "\n",
    "# 写入文件\n",
    "with open(\"tts.mp3\", \"wb\") as f:\n",
    "    f.write(response.content)"
   ]
  }
 ],
 "metadata": {
  "kernelspec": {
   "display_name": "Python 3",
   "language": "python",
   "name": "python3"
  },
  "language_info": {
   "codemirror_mode": {
    "name": "ipython",
    "version": 3
   },
   "file_extension": ".py",
   "mimetype": "text/x-python",
   "name": "python",
   "nbconvert_exporter": "python",
   "pygments_lexer": "ipython3",
   "version": "3.10.8 | packaged by conda-forge | (main, Nov 24 2022, 14:07:00) [MSC v.1916 64 bit (AMD64)]"
  },
  "orig_nbformat": 4,
  "vscode": {
   "interpreter": {
    "hash": "44d8333f979baea269c29a779fad0c751fb0cc3cec7e8d76b97597e19d1d9d1a"
   }
  }
 },
 "nbformat": 4,
 "nbformat_minor": 2
}
