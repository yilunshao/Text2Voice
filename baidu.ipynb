{
 "cells": [
  {
   "cell_type": "code",
   "execution_count": 4,
   "metadata": {},
   "outputs": [],
   "source": [
    "from aip import AipSpeech\n",
    "\n",
    "# Replace with your Baidu API key and secret\n",
    "APP_ID = \n",
    "API_KEY = \n",
    "SECRET_KEY = \n",
    "\n",
    "# Set the text to be synthesized\n",
    "text = \"Hello, this is a test of the Baidu text-to-speech API\"\n",
    "\n",
    "# Set the speed (optional)\n",
    "speed = 10\n",
    "\n",
    "# Set the audio format (optional)\n",
    "format = \"mp3\"\n",
    "\n",
    "# Set the language (optional)\n",
    "lan = \"zh\"\n",
    "\n",
    "# Set the speaker (optional)\n",
    "speaker = 0\n",
    "\n",
    "# Set the volume (optional)\n",
    "volume = 5\n",
    "\n",
    "# Set the pitch (optional)\n",
    "pitch = 5\n",
    "\n",
    "# Initialize the Baidu API client\n",
    "client = AipSpeech(APP_ID, API_KEY, SECRET_KEY)\n",
    "\n",
    "# Set the request parameters\n",
    "params = {\n",
    "    \"tex\": text,\n",
    "    \"lan\": lan,\n",
    "    \"spd\": speed,\n",
    "    \"per\": speaker,\n",
    "    \"vol\": volume,\n",
    "    \"pit\": pitch,\n",
    "    \"aue\": format,\n",
    "}\n",
    "\n",
    "# Make the request\n",
    "result = client.synthesis(text, lan, 1, params)\n",
    "\n",
    "# Save the audio to a file\n",
    "with open(\"output.mp3\", \"wb\") as f:\n",
    "    f.write(result)\n"
   ]
  }
 ],
 "metadata": {
  "kernelspec": {
   "display_name": "Python 3",
   "language": "python",
   "name": "python3"
  },
  "language_info": {
   "codemirror_mode": {
    "name": "ipython",
    "version": 3
   },
   "file_extension": ".py",
   "mimetype": "text/x-python",
   "name": "python",
   "nbconvert_exporter": "python",
   "pygments_lexer": "ipython3",
   "version": "3.10.8"
  },
  "orig_nbformat": 4,
  "vscode": {
   "interpreter": {
    "hash": "44d8333f979baea269c29a779fad0c751fb0cc3cec7e8d76b97597e19d1d9d1a"
   }
  }
 },
 "nbformat": 4,
 "nbformat_minor": 2
}
