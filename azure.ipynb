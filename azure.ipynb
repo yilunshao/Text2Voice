{
 "cells": [
  {
   "cell_type": "code",
   "execution_count": 4,
   "metadata": {},
   "outputs": [],
   "source": [
    "import os\n",
    "import azure.cognitiveservices.speech as speechsdk"
   ]
  },
  {
   "cell_type": "code",
   "execution_count": 14,
   "metadata": {},
   "outputs": [
    {
     "name": "stdout",
     "output_type": "stream",
     "text": [
      "Enter some text that you want to speak >\n"
     ]
    }
   ],
   "source": [
    "subscription = os.environ.get('SPEECH_KEY')\n",
    "region=os.environ.get('SPEECH_REGION')\n",
    "\n",
    "speech_config = speechsdk.SpeechConfig(subscription=subscription, region=region)\n",
    "audio_config = speechsdk.audio.AudioOutputConfig(\n",
    "    use_default_speaker=True\n",
    "    # ,\n",
    "    # filename=\"data/file.wav\"\n",
    "    )\n",
    "\n",
    "# The language of the voice that speaks.\n",
    "speech_config.speech_synthesis_voice_name='zh-CN-XiaomoNeural'\n",
    "\n",
    "speech_synthesizer = speechsdk.SpeechSynthesizer(speech_config=speech_config, audio_config=audio_config)\n",
    "\n",
    "# Get text from the console and synthesize to the default speaker.\n",
    "print(\"Enter some text that you want to speak >\")\n",
    "text = \"<speak>Hello, world! <prosody rate='0.75'>This text will be spoken at a slower speed.</prosody></speak>\"\n",
    "\n",
    "speech_synthesis_result = speech_synthesizer.speak_text_async(\n",
    "    text\n",
    "\n",
    "    ).get()\n",
    "\n",
    "\n",
    "\n",
    "\n",
    "# if speech_synthesis_result.reason == speechsdk.ResultReason.SynthesizingAudioCompleted:\n",
    "#     print(\"Speech synthesized for text [{}]\".format(text))\n",
    "# elif speech_synthesis_result.reason == speechsdk.ResultReason.Canceled:\n",
    "#     cancellation_details = speech_synthesis_result.cancellation_details\n",
    "#     print(\"Speech synthesis canceled: {}\".format(cancellation_details.reason))\n",
    "#     if cancellation_details.reason == speechsdk.CancellationReason.Error:\n",
    "#         if cancellation_details.error_details:\n",
    "#             print(\"Error details: {}\".format(cancellation_details.error_details))\n",
    "#             print(\"Did you set the speech resource key and region values?\")"
   ]
  },
  {
   "cell_type": "code",
   "execution_count": 26,
   "metadata": {},
   "outputs": [
    {
     "name": "stdout",
     "output_type": "stream",
     "text": [
      "5ec51ae2213b472ab14bc19f84564b80\n",
      "eastus\n",
      "<speak version=\"1.0\" xmlns=\"https://www.w3.org/2001/10/synthesis\" xml:lang=\"en-US\">\n",
      "  <voice name=\"en-US-JennyNeural\">\n",
      "    When you're on the freeway, it's a good idea to use a GPS.\n",
      "  </voice>\n",
      "</speak>\n"
     ]
    }
   ],
   "source": [
    "# Import the necessary modules from the speechsdk package\n",
    "import os\n",
    "from azure.cognitiveservices.speech  import SpeechConfig, SpeechSynthesizer, audio, AudioDataStream\n",
    "\n",
    "subscription = os.environ.get('SPEECH_KEY')\n",
    "region=os.environ.get('SPEECH_REGION')\n",
    "print(subscription)\n",
    "print(region)\n",
    "# Create a new SpeechConfig object with the specified subscription key and region\n",
    "speech_config = SpeechConfig(subscription=subscription, region=region)\n",
    "\n",
    "# Create a new AudioConfig object that uses the default audio output device\n",
    "audio_config = audio.AudioOutputConfig(use_default_speaker=True)\n",
    "\n",
    "# Create a new SpeechSynthesizer object using the SpeechConfig and AudioConfig objects\n",
    "synthesizer = SpeechSynthesizer(speech_config=speech_config, audio_config=audio_config)\n",
    "\n",
    "# Open the SSML file and read the text into a string\n",
    "ssml_string = open(\"ssml.xml\", \"r\").read()\n",
    "print(ssml_string)\n",
    "# Use the speak_ssml_async method of the SpeechSynthesizer to generate speech from the SSML text\n",
    "result = synthesizer.speak_ssml_async(ssml_string).get()\n",
    "\n",
    "# Create a new AudioDataStream object from the SpeechSynthesisResult\n",
    "stream = AudioDataStream(result)\n",
    "\n",
    "# Save the audio data to a WAV file on the local filesystem\n",
    "stream.save_to_wav_file(\"file.wav\")\n",
    "\n",
    "\n"
   ]
  }
 ],
 "metadata": {
  "kernelspec": {
   "display_name": "Python 3",
   "language": "python",
   "name": "python3"
  },
  "language_info": {
   "codemirror_mode": {
    "name": "ipython",
    "version": 3
   },
   "file_extension": ".py",
   "mimetype": "text/x-python",
   "name": "python",
   "nbconvert_exporter": "python",
   "pygments_lexer": "ipython3",
   "version": "3.10.8"
  },
  "orig_nbformat": 4,
  "vscode": {
   "interpreter": {
    "hash": "44d8333f979baea269c29a779fad0c751fb0cc3cec7e8d76b97597e19d1d9d1a"
   }
  }
 },
 "nbformat": 4,
 "nbformat_minor": 2
}
