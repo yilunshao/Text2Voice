{
 "cells": [
  {
   "cell_type": "code",
   "execution_count": 3,
   "metadata": {},
   "outputs": [],
   "source": [
    "import os\n",
    "import azure.cognitiveservices.speech as speechsdk"
   ]
  },
  {
   "cell_type": "code",
   "execution_count": 17,
   "metadata": {},
   "outputs": [
    {
     "name": "stdout",
     "output_type": "stream",
     "text": [
      "Enter some text that you want to speak >\n"
     ]
    }
   ],
   "source": [
    "# This example requires environment variables named \"SPEECH_KEY\" and \"SPEECH_REGION\"\n",
    "speech_config = speechsdk.SpeechConfig(subscription='5ec51ae2213b472ab14bc19f84564b80', region='eastus')\n",
    "audio_config = speechsdk.audio.AudioOutputConfig(\n",
    "    use_default_speaker=True\n",
    "    # ,\n",
    "    # filename=\"data/file.wav\"\n",
    "    )\n",
    "\n",
    "# The language of the voice that speaks.\n",
    "speech_config.speech_synthesis_voice_name='zh-CN-XiaomoNeural'\n",
    "\n",
    "speech_synthesizer = speechsdk.SpeechSynthesizer(speech_config=speech_config, audio_config=audio_config)\n",
    "\n",
    "# Get text from the console and synthesize to the default speaker.\n",
    "print(\"Enter some text that you want to speak >\")\n",
    "text = \"你好 Enter some text that you want to speak\"\n",
    "# text = input()\n",
    "\n",
    "speech_synthesis_result = speech_synthesizer.speak_text_async(text).get()\n",
    "\n",
    "#将语音合成到文件中\n",
    "\n",
    "\n",
    "\n",
    "# if speech_synthesis_result.reason == speechsdk.ResultReason.SynthesizingAudioCompleted:\n",
    "#     print(\"Speech synthesized for text [{}]\".format(text))\n",
    "# elif speech_synthesis_result.reason == speechsdk.ResultReason.Canceled:\n",
    "#     cancellation_details = speech_synthesis_result.cancellation_details\n",
    "#     print(\"Speech synthesis canceled: {}\".format(cancellation_details.reason))\n",
    "#     if cancellation_details.reason == speechsdk.CancellationReason.Error:\n",
    "#         if cancellation_details.error_details:\n",
    "#             print(\"Error details: {}\".format(cancellation_details.error_details))\n",
    "#             print(\"Did you set the speech resource key and region values?\")"
   ]
  },
  {
   "cell_type": "code",
   "execution_count": 18,
   "metadata": {},
   "outputs": [],
   "source": [
    "text = \"接下来，创建一个 SpeechSynthesizer 对象。 此对象执行文本到语音的转换，并将转换结果输出到扬声器、文件或其他输出流。 SpeechSynthesizer 接受以下对象作为参数：\"\n",
    "speech_synthesis_result = speech_synthesizer.speak_text_async(text).get()"
   ]
  }
 ],
 "metadata": {
  "kernelspec": {
   "display_name": "Python 3",
   "language": "python",
   "name": "python3"
  },
  "language_info": {
   "codemirror_mode": {
    "name": "ipython",
    "version": 3
   },
   "file_extension": ".py",
   "mimetype": "text/x-python",
   "name": "python",
   "nbconvert_exporter": "python",
   "pygments_lexer": "ipython3",
   "version": "3.10.8"
  },
  "orig_nbformat": 4,
  "vscode": {
   "interpreter": {
    "hash": "44d8333f979baea269c29a779fad0c751fb0cc3cec7e8d76b97597e19d1d9d1a"
   }
  }
 },
 "nbformat": 4,
 "nbformat_minor": 2
}
